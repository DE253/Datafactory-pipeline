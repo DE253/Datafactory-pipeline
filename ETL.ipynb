{
 "cells": [
  {
   "cell_type": "code",
   "execution_count": 0,
   "metadata": {
    "application/vnd.databricks.v1+cell": {
     "cellMetadata": {
      "byteLimit": 2048000,
      "rowLimit": 10000
     },
     "inputWidgets": {},
     "nuid": "6f65864a-9cda-4695-b252-c4cdd474219c",
     "showTitle": false,
     "tableResultSettingsMap": {},
     "title": ""
    }
   },
   "outputs": [],
   "source": [
    "storage_account_name = \"cadfstorage\"\n",
    "storage_account_key = \"Y8cR8X6SmC7QLojvNRw1h95qe94HGA1GbGDFJxRvs06wf9DVfuy/NaVCEQ0nOO/VyFH7x8KaccIr+AStY6uuYw==\"\n",
    "\n",
    "# Configure Spark to use the storage account key\n",
    "spark.conf.set(f\"fs.azure.account.key.{storage_account_name}.dfs.core.windows.net\", storage_account_key)\n",
    "\n"
   ]
  },
  {
   "cell_type": "code",
   "execution_count": 0,
   "metadata": {
    "application/vnd.databricks.v1+cell": {
     "cellMetadata": {
      "byteLimit": 2048000,
      "rowLimit": 10000
     },
     "inputWidgets": {},
     "nuid": "7ea181b5-ad3b-4475-b12a-6ab52598e681",
     "showTitle": false,
     "tableResultSettingsMap": {},
     "title": ""
    }
   },
   "outputs": [
    {
     "output_type": "stream",
     "name": "stdout",
     "output_type": "stream",
     "text": [
      "+-----------+----------+------------+--------+\n|customer_id|account_id|account_type| balance|\n+-----------+----------+------------+--------+\n|         45|         1|     Savings| 1000.50|\n|         50|       100|    Checking|10100.00|\n|          3|        11|     Savings| 1100.75|\n|         81|        12|    Checking| 2700.00|\n|         29|        13|     Savings| 1300.25|\n+-----------+----------+------------+--------+\nonly showing top 5 rows\n\n+-----------+----------+---------+--------------+---------+-----+------+\n|customer_id|first_name|last_name|       address|     city|state|   zip|\n+-----------+----------+---------+--------------+---------+-----+------+\n|          1|      John|      Doe|    123 Elm St|  Toronto|   ON|M4B1B3|\n|          2|      Jane|    Smith| 456 Maple Ave|   Ottawa|   ON|K1A0B1|\n|          3|   Michael|  Johnson|    789 Oak Dr| Montreal|   QC|H1A1A1|\n|          4|     Emily|    Davis|   101 Pine Rd|  Calgary|   AB|T2A0A1|\n|          5|     David|   Wilson|202 Birch Blvd|Vancouver|   BC|V5K0A1|\n+-----------+----------+---------+--------------+---------+-----+------+\nonly showing top 5 rows\n\n"
     ]
    }
   ],
   "source": [
    "# Assuming both files are in CSV format\n",
    "accounts_df = spark.read.format(\"csv\").option(\"header\", \"true\").load(\"abfss://silver@cadfstorage.dfs.core.windows.net/part-00000-tid-7843773515758180079-bf13967a-365a-47ae-a354-7d2d491746ed-43-1-c000.csv\")\n",
    "customers_df = spark.read.format(\"csv\").option(\"header\", \"true\").load(\"abfss://silver@cadfstorage.dfs.core.windows.net/customers.csv\")\n",
    "\n",
    "accounts_df.show(5)\n",
    "customers_df.show(5)"
   ]
  },
  {
   "cell_type": "code",
   "execution_count": 0,
   "metadata": {
    "application/vnd.databricks.v1+cell": {
     "cellMetadata": {
      "byteLimit": 2048000,
      "rowLimit": 10000
     },
     "inputWidgets": {},
     "nuid": "3333d1b6-b65e-48f6-a62b-307610159134",
     "showTitle": false,
     "tableResultSettingsMap": {},
     "title": ""
    }
   },
   "outputs": [
    {
     "output_type": "stream",
     "name": "stdout",
     "output_type": "stream",
     "text": [
      "+-----------+-----------+---------+---------------+---------------+-----+------+------------+-------------+\n|customer_id| first_name|last_name|        address|           city|state|   zip|account_type|total_balance|\n+-----------+-----------+---------+---------------+---------------+-----+------+------------+-------------+\n|         86|     Olivia|   Gibson|    8585 Elm St|   New Liskeard|   ON|P0J0A1|     Savings|       400.25|\n|         81|    Michael|    Owens| 8080 Willow Rd|        Mattawa|   ON|P0H0A1|    Checking|       2700.0|\n|         26|    Abigail|   Parker| 2525 Poplar St|         Barrie|   ON|L4M0A1|    Checking|       6700.5|\n|         20|        Mia|   Nelson|1919 Birch Blvd|         London|   ON|N6A0A1|    Checking|       6100.0|\n|          5|      David|   Wilson| 202 Birch Blvd|      Vancouver|   BC|V5K0A1|    Checking|       1600.5|\n|         53|      James|  Jenkins| 5252 Willow Rd|    Queensville|   ON|L0G0A1|     Savings|       300.25|\n|         83|      David|   Fisher|  8282 Ash Blvd|         Verner|   ON|P0H0A1|     Savings|       275.75|\n|         40|     Sophia|   Rivera| 3939 Poplar St|         Milton|   ON|L9T0A1|    Checking|       8500.0|\n|         57|      David|Patterson|  5656 Cedar Ln|      King City|   ON|L7B0A1|     Savings|       350.25|\n|         82|  Elizabeth| Reynolds| 8181 Poplar St| Sturgeon Falls|   ON|P2B0A1|     Savings|       775.75|\n|         65|     Daniel|   Bryant|6464 Redwood Dr|        Elmvale|   ON|L0L0A1|     Savings|       800.25|\n|         21|     Andrew| Mitchell| 2020 Spruce Ln|       Hamilton|   ON|L8P0A1|    Checking|      10700.5|\n|         71|Christopher|    Myers|  7070 Cedar Ln|      Coldwater|   ON|L0K0A1|     Savings|       125.75|\n|          2|       Jane|    Smith|  456 Maple Ave|         Ottawa|   ON|K1A0B1|    Checking|       8300.5|\n|         55|    Michael|   Butler|  5454 Ash Blvd|Holland Landing|   ON|L9N0A1|     Savings|       725.75|\n|         79|      James|     West|7878 Redwood Dr|    South River|   ON|P0A0A1|     Savings|       900.25|\n|         69|     Joseph|     Diaz|  6868 Ash Blvd|  Port McNicoll|   ON|L0K0A1|     Savings|       550.25|\n|         84|     Sophia|    Ellis|  8383 Beech Dr|          Field|   ON|P0H0A1|     Savings|       525.75|\n|         58|     Sophia|   Hughes|    5757 Elm St|       Nobleton|   ON|L0G0A1|     Savings|        75.25|\n|         33|       John|   Rogers|   3232 Pine Rd|        Timmins|   ON|P4N0A1|    Checking|       7100.5|\n+-----------+-----------+---------+---------------+---------------+-----+------+------------+-------------+\nonly showing top 20 rows\n\n"
     ]
    }
   ],
   "source": [
    "from pyspark.sql import functions as F\n",
    "\n",
    "# Convert balance column to float if necessary\n",
    "accounts_df = accounts_df.withColumn(\"balance\", F.col(\"balance\").cast(\"float\"))\n",
    "\n",
    "# Join customers and accounts DataFrames on customer_id and select specific columns to avoid ambiguity\n",
    "joined_df = customers_df.alias(\"cust\").join(accounts_df.alias(\"acct\"), F.col(\"cust.customer_id\") == F.col(\"acct.customer_id\"), \"inner\") \\\n",
    "    .select(\n",
    "        F.col(\"cust.customer_id\").alias(\"customer_id\"),\n",
    "        \"first_name\",\n",
    "        \"last_name\",\n",
    "        \"address\",\n",
    "        \"city\",\n",
    "        \"state\",\n",
    "        \"zip\",\n",
    "        \"account_type\",\n",
    "        \"balance\"\n",
    "    )\n",
    "\n",
    "# Aggregate to calculate the total balance for each customer\n",
    "result_df = joined_df.groupBy(\n",
    "    \"customer_id\",\n",
    "    \"first_name\",\n",
    "    \"last_name\",\n",
    "    \"address\",\n",
    "    \"city\",\n",
    "    \"state\",\n",
    "    \"zip\",\n",
    "    \"account_type\"\n",
    ").agg(\n",
    "    F.sum(\"balance\").alias(\"total_balance\")\n",
    ")\n",
    "\n",
    "# Display the result\n",
    "result_df.show()"
   ]
  },
  {
   "cell_type": "code",
   "execution_count": 0,
   "metadata": {
    "application/vnd.databricks.v1+cell": {
     "cellMetadata": {
      "byteLimit": 2048000,
      "rowLimit": 10000
     },
     "inputWidgets": {},
     "nuid": "07755d54-3c5d-4be0-811f-b37e320867a2",
     "showTitle": false,
     "tableResultSettingsMap": {},
     "title": ""
    }
   },
   "outputs": [],
   "source": [
    "# Write the sorted DataFrame to Azure Data Lake Storage in CSV format\n",
    "result_df.write.format(\"csv\").mode(\"overwrite\").option(\"header\", \"true\").save(\"abfss://silver@cadfstorage.dfs.core.windows.net/total_balance_per_customer.csv\")\n"
   ]
  },
  {
   "cell_type": "code",
   "execution_count": 0,
   "metadata": {
    "application/vnd.databricks.v1+cell": {
     "cellMetadata": {
      "byteLimit": 2048000,
      "rowLimit": 10000
     },
     "inputWidgets": {},
     "nuid": "006ed02b-3ca6-4197-aca3-50fd88356c35",
     "showTitle": false,
     "tableResultSettingsMap": {},
     "title": ""
    }
   },
   "outputs": [
    {
     "output_type": "stream",
     "name": "stdout",
     "output_type": "stream",
     "text": [
      "+-----------+-----------+---------+---------------+---------------+-----+------+------------+-------------+\n|customer_id| first_name|last_name|        address|           city|state|   zip|account_type|total_balance|\n+-----------+-----------+---------+---------------+---------------+-----+------+------------+-------------+\n|         86|     Olivia|   Gibson|    8585 Elm St|   New Liskeard|   ON|P0J0A1|     Savings|       400.25|\n|         81|    Michael|    Owens| 8080 Willow Rd|        Mattawa|   ON|P0H0A1|    Checking|       2700.0|\n|         26|    Abigail|   Parker| 2525 Poplar St|         Barrie|   ON|L4M0A1|    Checking|       6700.5|\n|         20|        Mia|   Nelson|1919 Birch Blvd|         London|   ON|N6A0A1|    Checking|       6100.0|\n|          5|      David|   Wilson| 202 Birch Blvd|      Vancouver|   BC|V5K0A1|    Checking|       1600.5|\n|         53|      James|  Jenkins| 5252 Willow Rd|    Queensville|   ON|L0G0A1|     Savings|       300.25|\n|         83|      David|   Fisher|  8282 Ash Blvd|         Verner|   ON|P0H0A1|     Savings|       275.75|\n|         40|     Sophia|   Rivera| 3939 Poplar St|         Milton|   ON|L9T0A1|    Checking|       8500.0|\n|         57|      David|Patterson|  5656 Cedar Ln|      King City|   ON|L7B0A1|     Savings|       350.25|\n|         82|  Elizabeth| Reynolds| 8181 Poplar St| Sturgeon Falls|   ON|P2B0A1|     Savings|       775.75|\n|         65|     Daniel|   Bryant|6464 Redwood Dr|        Elmvale|   ON|L0L0A1|     Savings|       800.25|\n|         21|     Andrew| Mitchell| 2020 Spruce Ln|       Hamilton|   ON|L8P0A1|    Checking|      10700.5|\n|         71|Christopher|    Myers|  7070 Cedar Ln|      Coldwater|   ON|L0K0A1|     Savings|       125.75|\n|          2|       Jane|    Smith|  456 Maple Ave|         Ottawa|   ON|K1A0B1|    Checking|       8300.5|\n|         55|    Michael|   Butler|  5454 Ash Blvd|Holland Landing|   ON|L9N0A1|     Savings|       725.75|\n|         79|      James|     West|7878 Redwood Dr|    South River|   ON|P0A0A1|     Savings|       900.25|\n|         69|     Joseph|     Diaz|  6868 Ash Blvd|  Port McNicoll|   ON|L0K0A1|     Savings|       550.25|\n|         84|     Sophia|    Ellis|  8383 Beech Dr|          Field|   ON|P0H0A1|     Savings|       525.75|\n|         58|     Sophia|   Hughes|    5757 Elm St|       Nobleton|   ON|L0G0A1|     Savings|        75.25|\n|         33|       John|   Rogers|   3232 Pine Rd|        Timmins|   ON|P4N0A1|    Checking|       7100.5|\n+-----------+-----------+---------+---------------+---------------+-----+------+------------+-------------+\nonly showing top 20 rows\n\n"
     ]
    }
   ],
   "source": [
    "# Assuming `total_balance_df` is the DataFrame with the aggregated total balances\n",
    "gold_container_path = \"abfss://gold@cadfstorage.dfs.core.windows.net/total_balance_per_customer.csv\"\n",
    "\n",
    "result_df.write.format(\"csv\").mode(\"overwrite\").option(\"header\", \"true\").save(\"abfss://gold@cadfstorage.dfs.core.windows.net/total_balance_per_customer.csv\")\n",
    "\n",
    "result_df.show()\n"
   ]
  },
  {
   "cell_type": "code",
   "execution_count": 0,
   "metadata": {
    "application/vnd.databricks.v1+cell": {
     "cellMetadata": {},
     "inputWidgets": {},
     "nuid": "aaee7a36-a598-4328-a344-d8edc775cb45",
     "showTitle": false,
     "tableResultSettingsMap": {},
     "title": ""
    }
   },
   "outputs": [],
   "source": []
  }
 ],
 "metadata": {
  "application/vnd.databricks.v1+notebook": {
   "dashboards": [],
   "environmentMetadata": {
    "base_environment": "",
    "client": "1"
   },
   "language": "python",
   "notebookMetadata": {
    "pythonIndentUnit": 4
   },
   "notebookName": "ETL",
   "widgets": {}
  },
  "language_info": {
   "name": "python"
  }
 },
 "nbformat": 4,
 "nbformat_minor": 0
}